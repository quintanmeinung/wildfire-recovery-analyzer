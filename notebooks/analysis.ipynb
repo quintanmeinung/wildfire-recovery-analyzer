{
 "cells": [
  {
   "cell_type": "markdown",
   "id": "8965b5c2",
   "metadata": {},
   "source": [
    "# 🌲 Wildfire Recovery Analyzer — NDVI Exploration\n",
    "\n",
    "This notebook loads the NDVI GeoTIFF produced by `src/ndvi_calculator.py`, renders it, and shows basic statistics.\n",
    "\n",
    "**Steps:**\n",
    "1. Load `data/processed/ndvi.tif`\n",
    "2. Display the NDVI image\n",
    "3. Plot histogram of NDVI values\n",
    "4. Print summary statistics (min/mean/max)\n",
    "\n",
    "> Tip: Re-run the calculator with real imagery later and revisit this notebook to compare results."
   ]
  },
  {
   "cell_type": "code",
   "execution_count": null,
   "id": "2f253045",
   "metadata": {},
   "outputs": [],
   "source": [
    "# If you're running this in a new environment, uncomment to ensure dependencies are present:\n",
    "# !pip install rasterio numpy matplotlib\n",
    "\n",
    "import numpy as np\n",
    "import rasterio\n",
    "import matplotlib.pyplot as plt\n",
    "from pathlib import Path\n",
    "\n",
    "ndvi_path = Path('data/processed/ndvi.tif')\n",
    "assert ndvi_path.exists(), f\"NDVI file not found at {ndvi_path}. Run the calculator first.\"\n",
    "\n",
    "with rasterio.open(ndvi_path) as src:\n",
    "    ndvi = src.read(1).astype('float32')\n",
    "    nodata = src.nodata\n",
    "\n",
    "# Replace nodata with NaN for clean stats\n",
    "if nodata is not None:\n",
    "    ndvi = np.where(np.isclose(ndvi, nodata), np.nan, ndvi)\n",
    "\n",
    "print('Loaded NDVI with shape:', ndvi.shape)"
   ]
  },
  {
   "cell_type": "code",
   "execution_count": null,
   "id": "2f92bfbe",
   "metadata": {},
   "outputs": [],
   "source": [
    "# Display NDVI (single plot; default matplotlib styling)\n",
    "plt.figure(figsize=(6,6))\n",
    "im = plt.imshow(ndvi, vmin=-1, vmax=1)\n",
    "plt.title('NDVI')\n",
    "plt.axis('off')\n",
    "plt.colorbar(im, fraction=0.046, pad=0.04, label='NDVI')\n",
    "plt.tight_layout()\n",
    "plt.show()"
   ]
  },
  {
   "cell_type": "code",
   "execution_count": null,
   "id": "a749a2a1",
   "metadata": {},
   "outputs": [],
   "source": [
    "# Histogram of NDVI values (ignoring NaNs)\n",
    "valid = ndvi[~np.isnan(ndvi)]\n",
    "plt.figure(figsize=(6,4))\n",
    "plt.hist(valid.ravel(), bins=40, range=(-1, 1))\n",
    "plt.title('NDVI Histogram')\n",
    "plt.xlabel('NDVI')\n",
    "plt.ylabel('Frequency')\n",
    "plt.tight_layout()\n",
    "plt.show()\n",
    "\n",
    "print('Min:', np.nanmin(ndvi))\n",
    "print('Mean:', np.nanmean(ndvi))\n",
    "print('Max:', np.nanmax(ndvi))"
   ]
  }
 ],
 "metadata": {
  "kernelspec": {
   "display_name": "Python 3 (ipykernel)",
   "language": "python",
   "name": "python3"
  },
  "language_info": {
   "codemirror_mode": {
    "name": "ipython",
    "version": 3
   },
   "file_extension": ".py",
   "mimetype": "text/x-python",
   "name": "python",
   "nbconvert_exporter": "python",
   "pygments_lexer": "ipython3",
   "version": "3.13.9"
  }
 },
 "nbformat": 4,
 "nbformat_minor": 5
}
